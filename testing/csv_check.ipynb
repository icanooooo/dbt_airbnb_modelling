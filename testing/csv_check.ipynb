{
 "cells": [
  {
   "cell_type": "code",
   "execution_count": 1,
   "metadata": {},
   "outputs": [],
   "source": [
    "import pandas as pd"
   ]
  },
  {
   "cell_type": "code",
   "execution_count": 2,
   "metadata": {},
   "outputs": [],
   "source": [
    "listing = pd.read_csv('source/listings.csv')"
   ]
  },
  {
   "cell_type": "code",
   "execution_count": 3,
   "metadata": {},
   "outputs": [
    {
     "name": "stdout",
     "output_type": "stream",
     "text": [
      "<class 'pandas.core.frame.DataFrame'>\n",
      "RangeIndex: 6461 entries, 0 to 6460\n",
      "Data columns (total 18 columns):\n",
      " #   Column                          Non-Null Count  Dtype  \n",
      "---  ------                          --------------  -----  \n",
      " 0   id                              6461 non-null   int64  \n",
      " 1   name                            6461 non-null   object \n",
      " 2   host_id                         6461 non-null   int64  \n",
      " 3   host_name                       6461 non-null   object \n",
      " 4   neighbourhood_group             6461 non-null   object \n",
      " 5   neighbourhood                   6461 non-null   object \n",
      " 6   latitude                        6461 non-null   float64\n",
      " 7   longitude                       6461 non-null   float64\n",
      " 8   room_type                       6461 non-null   object \n",
      " 9   price                           6431 non-null   float64\n",
      " 10  minimum_nights                  6461 non-null   int64  \n",
      " 11  number_of_reviews               6461 non-null   int64  \n",
      " 12  last_review                     5555 non-null   object \n",
      " 13  reviews_per_month               5555 non-null   float64\n",
      " 14  calculated_host_listings_count  6461 non-null   int64  \n",
      " 15  availability_365                6461 non-null   int64  \n",
      " 16  number_of_reviews_ltm           6461 non-null   int64  \n",
      " 17  license                         3231 non-null   object \n",
      "dtypes: float64(4), int64(7), object(7)\n",
      "memory usage: 908.7+ KB\n"
     ]
    }
   ],
   "source": [
    "listing.info()"
   ]
  },
  {
   "cell_type": "code",
   "execution_count": 4,
   "metadata": {},
   "outputs": [],
   "source": [
    "reviews = pd.read_csv('source/reviews.csv')"
   ]
  },
  {
   "cell_type": "code",
   "execution_count": 5,
   "metadata": {},
   "outputs": [
    {
     "name": "stdout",
     "output_type": "stream",
     "text": [
      "<class 'pandas.core.frame.DataFrame'>\n",
      "RangeIndex: 303044 entries, 0 to 303043\n",
      "Data columns (total 6 columns):\n",
      " #   Column         Non-Null Count   Dtype \n",
      "---  ------         --------------   ----- \n",
      " 0   listing_id     303044 non-null  int64 \n",
      " 1   id             303044 non-null  int64 \n",
      " 2   date           303044 non-null  object\n",
      " 3   reviewer_id    303044 non-null  int64 \n",
      " 4   reviewer_name  303044 non-null  object\n",
      " 5   comments       303028 non-null  object\n",
      "dtypes: int64(3), object(3)\n",
      "memory usage: 13.9+ MB\n"
     ]
    }
   ],
   "source": [
    "reviews.info()"
   ]
  },
  {
   "cell_type": "code",
   "execution_count": 6,
   "metadata": {},
   "outputs": [],
   "source": [
    "reviews['comments'] = reviews['comments'].str.replace(',', ';', regex=False)\n",
    "reviews['comments'] = reviews['comments'].str.replace('<br/>', '', regex=False)\n",
    "reviews['comments'] = reviews['comments'].str.replace(r'[\\r\\n]+', '', regex=True)"
   ]
  },
  {
   "cell_type": "code",
   "execution_count": 7,
   "metadata": {},
   "outputs": [
    {
     "data": {
      "text/html": [
       "<div>\n",
       "<style scoped>\n",
       "    .dataframe tbody tr th:only-of-type {\n",
       "        vertical-align: middle;\n",
       "    }\n",
       "\n",
       "    .dataframe tbody tr th {\n",
       "        vertical-align: top;\n",
       "    }\n",
       "\n",
       "    .dataframe thead th {\n",
       "        text-align: right;\n",
       "    }\n",
       "</style>\n",
       "<table border=\"1\" class=\"dataframe\">\n",
       "  <thead>\n",
       "    <tr style=\"text-align: right;\">\n",
       "      <th></th>\n",
       "      <th>listing_id</th>\n",
       "      <th>id</th>\n",
       "      <th>date</th>\n",
       "      <th>reviewer_id</th>\n",
       "      <th>reviewer_name</th>\n",
       "      <th>comments</th>\n",
       "    </tr>\n",
       "  </thead>\n",
       "  <tbody>\n",
       "    <tr>\n",
       "      <th>0</th>\n",
       "      <td>132068</td>\n",
       "      <td>297597</td>\n",
       "      <td>2011-06-04</td>\n",
       "      <td>182987</td>\n",
       "      <td>Irina</td>\n",
       "      <td>Mikel's place was outrageous; a perfect combin...</td>\n",
       "    </tr>\n",
       "    <tr>\n",
       "      <th>1</th>\n",
       "      <td>132068</td>\n",
       "      <td>12519461</td>\n",
       "      <td>2014-05-04</td>\n",
       "      <td>5175212</td>\n",
       "      <td>Philippine &amp; Grégoire</td>\n",
       "      <td>Mikel appartment is exactly as it is described...</td>\n",
       "    </tr>\n",
       "    <tr>\n",
       "      <th>2</th>\n",
       "      <td>132068</td>\n",
       "      <td>12600130</td>\n",
       "      <td>2014-05-05</td>\n",
       "      <td>2789268</td>\n",
       "      <td>Alvaro</td>\n",
       "      <td>La experiencia en el apartamento de Mikel fue ...</td>\n",
       "    </tr>\n",
       "    <tr>\n",
       "      <th>3</th>\n",
       "      <td>132068</td>\n",
       "      <td>13253988</td>\n",
       "      <td>2014-05-23</td>\n",
       "      <td>298828</td>\n",
       "      <td>Mayte</td>\n",
       "      <td>Mikel Es una persona amable; el aspartamento e...</td>\n",
       "    </tr>\n",
       "    <tr>\n",
       "      <th>4</th>\n",
       "      <td>132068</td>\n",
       "      <td>13294951</td>\n",
       "      <td>2014-05-24</td>\n",
       "      <td>7736822</td>\n",
       "      <td>Kaela</td>\n",
       "      <td>Absolutely wonderful apartment. Mikel was very...</td>\n",
       "    </tr>\n",
       "  </tbody>\n",
       "</table>\n",
       "</div>"
      ],
      "text/plain": [
       "   listing_id        id        date  reviewer_id          reviewer_name  \\\n",
       "0      132068    297597  2011-06-04       182987                  Irina   \n",
       "1      132068  12519461  2014-05-04      5175212  Philippine & Grégoire   \n",
       "2      132068  12600130  2014-05-05      2789268                 Alvaro   \n",
       "3      132068  13253988  2014-05-23       298828                  Mayte   \n",
       "4      132068  13294951  2014-05-24      7736822                  Kaela   \n",
       "\n",
       "                                            comments  \n",
       "0  Mikel's place was outrageous; a perfect combin...  \n",
       "1  Mikel appartment is exactly as it is described...  \n",
       "2  La experiencia en el apartamento de Mikel fue ...  \n",
       "3  Mikel Es una persona amable; el aspartamento e...  \n",
       "4  Absolutely wonderful apartment. Mikel was very...  "
      ]
     },
     "execution_count": 7,
     "metadata": {},
     "output_type": "execute_result"
    }
   ],
   "source": [
    "reviews.head()"
   ]
  }
 ],
 "metadata": {
  "kernelspec": {
   "display_name": "Python 3",
   "language": "python",
   "name": "python3"
  },
  "language_info": {
   "codemirror_mode": {
    "name": "ipython",
    "version": 3
   },
   "file_extension": ".py",
   "mimetype": "text/x-python",
   "name": "python",
   "nbconvert_exporter": "python",
   "pygments_lexer": "ipython3",
   "version": "3.10.12"
  }
 },
 "nbformat": 4,
 "nbformat_minor": 2
}
