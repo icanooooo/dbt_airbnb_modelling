{
 "cells": [
  {
   "cell_type": "code",
   "execution_count": 22,
   "metadata": {},
   "outputs": [],
   "source": [
    "import pandas as pd"
   ]
  },
  {
   "cell_type": "code",
   "execution_count": 23,
   "metadata": {},
   "outputs": [],
   "source": [
    "listing = pd.read_csv('source/listings.csv')"
   ]
  },
  {
   "cell_type": "code",
   "execution_count": 24,
   "metadata": {},
   "outputs": [
    {
     "name": "stdout",
     "output_type": "stream",
     "text": [
      "<class 'pandas.core.frame.DataFrame'>\n",
      "RangeIndex: 6461 entries, 0 to 6460\n",
      "Data columns (total 18 columns):\n",
      " #   Column                          Non-Null Count  Dtype  \n",
      "---  ------                          --------------  -----  \n",
      " 0   id                              6461 non-null   int64  \n",
      " 1   name                            6461 non-null   object \n",
      " 2   host_id                         6461 non-null   int64  \n",
      " 3   host_name                       6461 non-null   object \n",
      " 4   neighbourhood_group             6461 non-null   object \n",
      " 5   neighbourhood                   6461 non-null   object \n",
      " 6   latitude                        6461 non-null   float64\n",
      " 7   longitude                       6461 non-null   float64\n",
      " 8   room_type                       6461 non-null   object \n",
      " 9   price                           6431 non-null   float64\n",
      " 10  minimum_nights                  6461 non-null   int64  \n",
      " 11  number_of_reviews               6461 non-null   int64  \n",
      " 12  last_review                     5555 non-null   object \n",
      " 13  reviews_per_month               5555 non-null   float64\n",
      " 14  calculated_host_listings_count  6461 non-null   int64  \n",
      " 15  availability_365                6461 non-null   int64  \n",
      " 16  number_of_reviews_ltm           6461 non-null   int64  \n",
      " 17  license                         3231 non-null   object \n",
      "dtypes: float64(4), int64(7), object(7)\n",
      "memory usage: 908.7+ KB\n"
     ]
    }
   ],
   "source": [
    "listing.info()"
   ]
  },
  {
   "cell_type": "code",
   "execution_count": 25,
   "metadata": {},
   "outputs": [],
   "source": [
    "reviews = pd.read_csv('source/reviews.csv')"
   ]
  },
  {
   "cell_type": "code",
   "execution_count": 26,
   "metadata": {},
   "outputs": [
    {
     "name": "stdout",
     "output_type": "stream",
     "text": [
      "<class 'pandas.core.frame.DataFrame'>\n",
      "RangeIndex: 303044 entries, 0 to 303043\n",
      "Data columns (total 6 columns):\n",
      " #   Column         Non-Null Count   Dtype \n",
      "---  ------         --------------   ----- \n",
      " 0   listing_id     303044 non-null  int64 \n",
      " 1   id             303044 non-null  int64 \n",
      " 2   date           303044 non-null  object\n",
      " 3   reviewer_id    303044 non-null  int64 \n",
      " 4   reviewer_name  303044 non-null  object\n",
      " 5   comments       303028 non-null  object\n",
      "dtypes: int64(3), object(3)\n",
      "memory usage: 13.9+ MB\n"
     ]
    }
   ],
   "source": [
    "reviews.info()"
   ]
  },
  {
   "cell_type": "code",
   "execution_count": 27,
   "metadata": {},
   "outputs": [],
   "source": [
    "reviews['comments'] = reviews['comments'].str.replace(',', ';', regex=False)\n",
    "reviews['comments'] = reviews['comments'].str.replace('<br/>', '', regex=False)\n",
    "reviews['comments'] = reviews['comments'].str.replace(r'[\\r\\n]+', '', regex=True)"
   ]
  },
  {
   "cell_type": "code",
   "execution_count": null,
   "metadata": {},
   "outputs": [],
   "source": [
    "reviews.to_csv('source/new_reviews.csv')"
   ]
  }
 ],
 "metadata": {
  "kernelspec": {
   "display_name": "Python 3",
   "language": "python",
   "name": "python3"
  },
  "language_info": {
   "codemirror_mode": {
    "name": "ipython",
    "version": 3
   },
   "file_extension": ".py",
   "mimetype": "text/x-python",
   "name": "python",
   "nbconvert_exporter": "python",
   "pygments_lexer": "ipython3",
   "version": "3.10.12"
  }
 },
 "nbformat": 4,
 "nbformat_minor": 2
}
