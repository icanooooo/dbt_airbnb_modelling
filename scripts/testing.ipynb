{
 "cells": [
  {
   "cell_type": "code",
   "execution_count": 3,
   "metadata": {},
   "outputs": [],
   "source": [
    "import pandas as pd"
   ]
  },
  {
   "cell_type": "code",
   "execution_count": 4,
   "metadata": {},
   "outputs": [
    {
     "data": {
      "text/html": [
       "<div>\n",
       "<style scoped>\n",
       "    .dataframe tbody tr th:only-of-type {\n",
       "        vertical-align: middle;\n",
       "    }\n",
       "\n",
       "    .dataframe tbody tr th {\n",
       "        vertical-align: top;\n",
       "    }\n",
       "\n",
       "    .dataframe thead th {\n",
       "        text-align: right;\n",
       "    }\n",
       "</style>\n",
       "<table border=\"1\" class=\"dataframe\">\n",
       "  <thead>\n",
       "    <tr style=\"text-align: right;\">\n",
       "      <th></th>\n",
       "      <th>listing_id</th>\n",
       "      <th>id</th>\n",
       "      <th>date</th>\n",
       "      <th>reviewer_id</th>\n",
       "      <th>reviewer_name</th>\n",
       "      <th>comments</th>\n",
       "    </tr>\n",
       "  </thead>\n",
       "  <tbody>\n",
       "    <tr>\n",
       "      <th>0</th>\n",
       "      <td>27934</td>\n",
       "      <td>1094339</td>\n",
       "      <td>2012-04-07</td>\n",
       "      <td>1368195</td>\n",
       "      <td>Michael</td>\n",
       "      <td>We stayed in the apartment for a week and we e...</td>\n",
       "    </tr>\n",
       "    <tr>\n",
       "      <th>1</th>\n",
       "      <td>27934</td>\n",
       "      <td>1241042</td>\n",
       "      <td>2012-05-07</td>\n",
       "      <td>2007324</td>\n",
       "      <td>Scott</td>\n",
       "      <td>My girlfriend and I recently stayed in Nuttee'...</td>\n",
       "    </tr>\n",
       "    <tr>\n",
       "      <th>2</th>\n",
       "      <td>27934</td>\n",
       "      <td>1523384</td>\n",
       "      <td>2012-06-20</td>\n",
       "      <td>2263352</td>\n",
       "      <td>Marc</td>\n",
       "      <td>I stayed for one month at the condo and was re...</td>\n",
       "    </tr>\n",
       "    <tr>\n",
       "      <th>3</th>\n",
       "      <td>27934</td>\n",
       "      <td>1655571</td>\n",
       "      <td>2012-07-08</td>\n",
       "      <td>558987</td>\n",
       "      <td>Leyla</td>\n",
       "      <td>Nuttee was a great host! I really enjoyed her ...</td>\n",
       "    </tr>\n",
       "    <tr>\n",
       "      <th>4</th>\n",
       "      <td>27934</td>\n",
       "      <td>1972192</td>\n",
       "      <td>2012-08-13</td>\n",
       "      <td>2359865</td>\n",
       "      <td>Rachel</td>\n",
       "      <td>Nuttee was an amazing host. She and her daught...</td>\n",
       "    </tr>\n",
       "  </tbody>\n",
       "</table>\n",
       "</div>"
      ],
      "text/plain": [
       "   listing_id       id        date  reviewer_id reviewer_name  \\\n",
       "0       27934  1094339  2012-04-07      1368195       Michael   \n",
       "1       27934  1241042  2012-05-07      2007324         Scott   \n",
       "2       27934  1523384  2012-06-20      2263352          Marc   \n",
       "3       27934  1655571  2012-07-08       558987         Leyla   \n",
       "4       27934  1972192  2012-08-13      2359865        Rachel   \n",
       "\n",
       "                                            comments  \n",
       "0  We stayed in the apartment for a week and we e...  \n",
       "1  My girlfriend and I recently stayed in Nuttee'...  \n",
       "2  I stayed for one month at the condo and was re...  \n",
       "3  Nuttee was a great host! I really enjoyed her ...  \n",
       "4  Nuttee was an amazing host. She and her daught...  "
      ]
     },
     "execution_count": 4,
     "metadata": {},
     "output_type": "execute_result"
    }
   ],
   "source": [
    "reviews = pd.read_csv('../src/reviews.csv')\n",
    "\n",
    "reviews.head()"
   ]
  }
 ],
 "metadata": {
  "kernelspec": {
   "display_name": "Python 3",
   "language": "python",
   "name": "python3"
  },
  "language_info": {
   "codemirror_mode": {
    "name": "ipython",
    "version": 3
   },
   "file_extension": ".py",
   "mimetype": "text/x-python",
   "name": "python",
   "nbconvert_exporter": "python",
   "pygments_lexer": "ipython3",
   "version": "3.10.12"
  }
 },
 "nbformat": 4,
 "nbformat_minor": 2
}
